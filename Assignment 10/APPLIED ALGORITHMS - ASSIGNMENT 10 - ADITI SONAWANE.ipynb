{
  "metadata": {
    "language_info": {
      "codemirror_mode": {
        "name": "python",
        "version": 3
      },
      "file_extension": ".py",
      "mimetype": "text/x-python",
      "name": "python",
      "nbconvert_exporter": "python",
      "pygments_lexer": "ipython3",
      "version": "3.8"
    },
    "kernelspec": {
      "name": "python",
      "display_name": "Python (Pyodide)",
      "language": "python"
    }
  },
  "nbformat_minor": 4,
  "nbformat": 4,
  "cells": [
    {
      "cell_type": "markdown",
      "source": "# PROBLEM 1",
      "metadata": {}
    },
    {
      "cell_type": "code",
      "source": "def get_combined_list(syn_list):\n    syn_list = map(set, syn_list)\n    result = []\n    \n    for i in syn_list:\n        \n        temp = []\n        \n        for j in result:\n            \n            if not j.isdisjoint(i):\n                i = j.union(i)\n                #print(i)\n                \n            else:\n                temp.append(j)\n                \n        temp.append(i)\n        result =temp\n        \n        \n    return result\n\n\n\nsyn_list = [['oranges','dogs', 'apples'],['peach', 'mango'],['dogs', 'cats']]\nget_combined_list(syn_list)",
      "metadata": {
        "trusted": true
      },
      "execution_count": 2,
      "outputs": [
        {
          "execution_count": 2,
          "output_type": "execute_result",
          "data": {
            "text/plain": "[{'mango', 'peach'}, {'apples', 'cats', 'dogs', 'oranges'}]"
          },
          "metadata": {}
        }
      ]
    },
    {
      "cell_type": "markdown",
      "source": "# PROBLEM 2",
      "metadata": {}
    },
    {
      "cell_type": "code",
      "source": "def SymmetricPairs(Array_Pairs:list[list]):\n    result=[]\n    hashed_Array_Pairs = set()\n    for i,j in Array_Pairs:\n        hashed_Array_Pairs.add((i,j))\n        \n        if (j,i) in hashed_Array_Pairs:\n            result.append([i,j])\n            #result.append(temp)\n    return result\n\n\nSymmetricPairs([[11, 20], [30, 40], [5, 10], [40, 30], [10, 5]])\n#SymmetricPairs([[11, 20], [40, 30], [10, 5]])",
      "metadata": {
        "trusted": true
      },
      "execution_count": 5,
      "outputs": [
        {
          "execution_count": 5,
          "output_type": "execute_result",
          "data": {
            "text/plain": "[[40, 30], [10, 5]]"
          },
          "metadata": {}
        }
      ]
    },
    {
      "cell_type": "markdown",
      "source": "# PROBLEM 3",
      "metadata": {}
    },
    {
      "cell_type": "code",
      "source": "def custom_dict(queries ,values):\n    add_key = 0\n    add_val = 0\n    array = []\n    \n    dictionary = {}\n    for i in range(0,len(queries)):\n        if queries[i] == 'Add':\n            if values[i][0] in dictionary:\n                temp = dictionary[values[i][0]]+values[i][1]\n                dictionary.update({values[i][0] : temp})\n            else:\n                dictionary[values[i][0]] = abs(values[i][1] - add_val)\n                \n                \n        elif queries[i] == 'Add_to_vals':\n            add_val = add_val + values[i][0]\n            \n        elif queries[i] == 'Add_to_keys':\n            add_key = add_key + values[i][0]\n        else:\n            key = abs(values[i][0]-add_key)\n            temp = dictionary[key]\n            temp = temp + add_val\n            #dictionary.update({values[i][0] : temp})\n            array.append(temp)\n    return array\n\nqueries= ['Add','Add_to_vals', 'Return','Add','Add_to_keys','Add_to_vals','Return']\nvalues= [[1,2],[2],[1],[2,3],[1],[-1],[3]]\ncustom_dict(queries, values)",
      "metadata": {
        "trusted": true
      },
      "execution_count": 6,
      "outputs": [
        {
          "execution_count": 6,
          "output_type": "execute_result",
          "data": {
            "text/plain": "[4, 2]"
          },
          "metadata": {}
        }
      ]
    },
    {
      "cell_type": "markdown",
      "source": "# PROBLEM 4",
      "metadata": {}
    },
    {
      "cell_type": "code",
      "source": "from collections import defaultdict\n\ndef calculate(city,graph,visited,stack):\n    if city in visited:\n        return\n    visited.append(city)\n    if city in graph:\n        for neighbors in graph[city]:\n            if neighbors not in visited:\n                calculate(neighbors,graph,visited,stack)\n    stack.append(city)        \n\n\n\n\ndef get_travel_plan(cities , priorities):\n    graph = defaultdict(list)\n    t_graph = defaultdict(list)\n    for i in range(0,len(priorities)):\n        if priorities[i][1] in t_graph:\n            if priorities[i][0] in t_graph[priorities[i][1]]:\n                return []\n        else:\n            graph[priorities[i][0]]=[priorities[i][1]]\n            t_graph[priorities[i][0]]=priorities[i][1]\n        \n        \n    for i in cities:\n        if i not in graph:\n            graph[i]=[]\n            \n    #print(\"GRAPH\",graph)        \n    stack = []\n    \n    visited = []\n    \n    for i in graph:\n        #print(\"i\",i)\n        calculate(i, graph, visited,stack)\n            \n    stack.reverse()\n    return stack\n\ncities = ['London', 'Berlin', 'Medellín', 'São Paulo', 'Prague', 'Ladakh', 'Nice']\npriorities = [('London', 'Medellín'), ('Medellín', 'São Paulo'), ('Prague', 'Berlin')]\n\n#cities = ['New York', 'Honolulu']\n#priorities = [('New York', 'Honolulu'), ('Honolulu', 'New York')]\nget_travel_plan(cities , priorities)",
      "metadata": {
        "trusted": true
      },
      "execution_count": 9,
      "outputs": [
        {
          "execution_count": 9,
          "output_type": "execute_result",
          "data": {
            "text/plain": "['Nice', 'Ladakh', 'Prague', 'Berlin', 'London', 'Medellín', 'São Paulo']"
          },
          "metadata": {}
        }
      ]
    },
    {
      "cell_type": "code",
      "source": "",
      "metadata": {},
      "execution_count": null,
      "outputs": []
    }
  ]
}