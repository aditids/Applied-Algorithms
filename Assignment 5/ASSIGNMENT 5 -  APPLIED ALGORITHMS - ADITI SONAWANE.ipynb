{
 "cells": [
  {
   "cell_type": "markdown",
   "metadata": {},
   "source": [
    "# PROBLEM 1"
   ]
  },
  {
   "cell_type": "code",
   "execution_count": 11,
   "metadata": {},
   "outputs": [
    {
     "name": "stdout",
     "output_type": "stream",
     "text": [
      "level 0 : empty\n",
      "level 1 : empty\n",
      "level 2 : [12, 23, 24, 42]\n",
      "level 0 : [11]\n",
      "level 1 : empty\n",
      "level 2 : [12, 23, 24, 42]\n",
      "level 0 : empty\n",
      "level 1 : [11, 74]\n",
      "level 2 : [12, 23, 24, 42]\n",
      "level 1\n",
      "level -1\n"
     ]
    }
   ],
   "source": [
    "import math \n",
    "\n",
    "class amor_dict () :\n",
    "\n",
    "    def __init__ (self, num_list) :\n",
    "        self.dictionary = {}\n",
    "        for i in num_list:\n",
    "            self.insert(i)     \n",
    "    \n",
    "    def insert(self ,num):\n",
    "        H = []\n",
    "        flag = 0\n",
    "        H.append(num)\n",
    "        while flag==0:\n",
    "            n = int(math.log(len(H),2))\n",
    "            if n in self.dictionary:\n",
    "                temp = self.dictionary.pop(n,None) \n",
    "                j = 0 \n",
    "                x = 0\n",
    "                K =[]\n",
    "                while x<len(H) and j<len(temp):\n",
    "                    if H[x]<temp[j]:\n",
    "                        K.append(H[x])\n",
    "                        x+=1\n",
    "                    else:\n",
    "                        K.append(temp[j])\n",
    "                        j+=1 \n",
    "                K = K + H[x:] + temp[j:]\n",
    "                H = K\n",
    "            else:\n",
    "                self.dictionary[n] = H\n",
    "                flag = 1\n",
    "                \n",
    "    def search(self, num):\n",
    "        for i in self.dictionary:\n",
    "            k = self.binary_search(self.dictionary[i],num,0,len(self.dictionary[i])-1)\n",
    "            if(k==True):\n",
    "                print(\"level\",i)\n",
    "                return\n",
    "        print(\"level -1\")\n",
    "        \n",
    "    def binary_search(self,level, num, x, y):\n",
    "        if x<=y:\n",
    "            mean = (x+y)//2\n",
    "            if level[mean] == num:\n",
    "                return True\n",
    "            elif level[mean]>num:\n",
    "                return self.binary_search(level, num, x, mean-1)\n",
    "            else:\n",
    "                return self.binary_search(level, num, mean+1, y)\n",
    "        \n",
    "        \n",
    "    def print(self) :\n",
    "        if len(self.dictionary)==0:\n",
    "            print(\"level 0: empty\")\n",
    "        else:\n",
    "            maxv = max(self.dictionary.keys())\n",
    "            #print(maxv)\n",
    "            for i in range(0,maxv+1):\n",
    "                if i in self.dictionary:\n",
    "                    print(\"level\",i,\":\",self.dictionary[i])\n",
    "                else:\n",
    "                    print(\"level\",i,\": empty\")\n",
    "            #print(self.dictionary)\n",
    "                \n",
    "\n",
    "\n",
    "ad_obj = amor_dict([23, 12 ,24, 42])\n",
    "ad_obj.print()  \n",
    "ad_obj.insert(11)\n",
    "ad_obj.print()\n",
    "ad_obj.insert(74)\n",
    "ad_obj.print()\n",
    "ad_obj.search(74)\n",
    "ad_obj.search(77)"
   ]
  },
  {
   "cell_type": "markdown",
   "metadata": {},
   "source": [
    "# PROBLEM 5"
   ]
  },
  {
   "cell_type": "code",
   "execution_count": 12,
   "metadata": {},
   "outputs": [
    {
     "name": "stdout",
     "output_type": "stream",
     "text": [
      "Output = 1\n",
      "Output = 1211\n"
     ]
    }
   ],
   "source": [
    "def count_digit_string(n):\n",
    "    \n",
    "    if n == 1:\n",
    "        return \"1\"\n",
    "    else:\n",
    "        temp = (count_digit_string(n-1))\n",
    "        result = \"\"\n",
    "        digit = 0\n",
    "        while digit < len(temp):\n",
    "            #print(i)\n",
    "            count = 1\n",
    "            while (digit+1<len(temp) and temp[digit] == temp[digit+1]):\n",
    "                count = count + 1\n",
    "                digit = digit+1\n",
    "            result = result + str(count) + temp[digit]\n",
    "            digit = digit+1\n",
    "    return result\n",
    "\n",
    "print(\"Output =\",count_digit_string(1))\n",
    "print(\"Output =\",count_digit_string(4))"
   ]
  },
  {
   "cell_type": "code",
   "execution_count": null,
   "metadata": {},
   "outputs": [],
   "source": []
  }
 ],
 "metadata": {
  "kernelspec": {
   "display_name": "Python 3",
   "language": "python",
   "name": "python3"
  },
  "language_info": {
   "codemirror_mode": {
    "name": "ipython",
    "version": 3
   },
   "file_extension": ".py",
   "mimetype": "text/x-python",
   "name": "python",
   "nbconvert_exporter": "python",
   "pygments_lexer": "ipython3",
   "version": "3.7.4"
  }
 },
 "nbformat": 4,
 "nbformat_minor": 2
}
