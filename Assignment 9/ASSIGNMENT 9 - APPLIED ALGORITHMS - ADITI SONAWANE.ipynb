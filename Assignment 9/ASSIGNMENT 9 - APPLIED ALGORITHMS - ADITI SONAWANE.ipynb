{
 "cells": [
  {
   "cell_type": "markdown",
   "metadata": {},
   "source": [
    "# PROBLEM 1"
   ]
  },
  {
   "cell_type": "code",
   "execution_count": 1,
   "metadata": {},
   "outputs": [
    {
     "name": "stdout",
     "output_type": "stream",
     "text": [
      "Output = True\n"
     ]
    }
   ],
   "source": [
    "def check(adj_matrix, vertex, m, n):\n",
    "    if vertex[m]!= -1 and vertex[m]!=n:\n",
    "        return False\n",
    "    vertex[m]=n\n",
    "    ret = True\n",
    "    for i in range(len(adj_matrix)):\n",
    "        if adj_matrix[m][i]:\n",
    "            if vertex[i]==-1:\n",
    "                ret &= check(adj_matrix, vertex, i, 1-n)\n",
    "            if vertex[i]!= -1 and vertex[i]!=1-n:\n",
    "                return False\n",
    "        if not ret:\n",
    "            return False\n",
    "    return True\n",
    "\n",
    "def can_color(adj_matrix):\n",
    "    #print(len(adj_matrix))\n",
    "    vertex = [-1]*len(adj_matrix)\n",
    "    return check(adj_matrix,vertex,0,1)\n",
    "\n",
    "\n",
    "adj_matrix = [[0,1,1,0],\n",
    "              [1,0,0,1], \n",
    "              [1,0,0,1],\n",
    "              [0,1,1,0]]\n",
    "\n",
    "\n",
    "print(\"Output =\",can_color(adj_matrix))"
   ]
  },
  {
   "cell_type": "markdown",
   "metadata": {},
   "source": [
    "# PROBLEM 2"
   ]
  },
  {
   "cell_type": "code",
   "execution_count": 2,
   "metadata": {},
   "outputs": [
    {
     "name": "stdout",
     "output_type": "stream",
     "text": [
      "False\n",
      "False\n",
      "True\n"
     ]
    }
   ],
   "source": [
    "from collections import defaultdict\n",
    "\n",
    "\n",
    "def check(begin, end, visited, path, graph,result, o):\n",
    "    visited[begin]= True\n",
    "    path.append(begin)\n",
    " \n",
    "    if begin == end:\n",
    "        x= 0\n",
    "        #print(path)\n",
    "        #result.append(path)\n",
    "        \n",
    "    else:\n",
    "        for i in graph[begin]:\n",
    "            #print(\"c\",visited[i])\n",
    "            if visited[i]== False:\n",
    "                \n",
    "                check(i, end, visited, path, graph,result, o)\n",
    "            \n",
    "            #print(len(graph[begin]))\n",
    "            \n",
    "                     \n",
    "    result.append(path.pop())\n",
    "    if result.count(end)== len(graph[o]):\n",
    "        return True\n",
    "    visited[begin]= False\n",
    "    \n",
    "    \n",
    "        \n",
    "\n",
    "def all_routes_to_dest(n, connections, begin, end):\n",
    "    graph = defaultdict(list)\n",
    "    \n",
    "    for i in connections:\n",
    "        #print(i)\n",
    "        graph[i[0]].append(i[1])\n",
    "    \n",
    "    visited =[False]*(n)\n",
    "    path = []\n",
    "    #print(graph)\n",
    "    result = []\n",
    "    value = check(begin, end, visited, path, graph,result, begin)\n",
    "    #print(path)\n",
    "    if value == True:\n",
    "        return True\n",
    "    return False\n",
    "\n",
    "n = 3\n",
    "connections = [[0,1],[0,2]]\n",
    "begin = 0\n",
    "end = 2\n",
    "print(all_routes_to_dest(n, connections, begin, end))\n",
    "\n",
    "n = 4\n",
    "connections = [[0,1],[0,3],[1,2],[2,1]]\n",
    "begin = 0\n",
    "end = 3\n",
    "print(all_routes_to_dest(n, connections, begin, end))\n",
    "\n",
    "n = 4\n",
    "connections = [[0,1],[0,2],[1,3],[2,3]]\n",
    "begin = 0\n",
    "end = 3\n",
    "\n",
    "print(all_routes_to_dest(n, connections, begin, end))\n",
    "#print(result)"
   ]
  },
  {
   "cell_type": "markdown",
   "metadata": {},
   "source": [
    "# PROBLEM 3"
   ]
  },
  {
   "cell_type": "code",
   "execution_count": 3,
   "metadata": {},
   "outputs": [
    {
     "name": "stdout",
     "output_type": "stream",
     "text": [
      "True\n",
      "False\n"
     ]
    }
   ],
   "source": [
    "def check(root, array, visited, cycle):\n",
    "    visited[root] = True\n",
    "    cycle[root] = True\n",
    "    \n",
    "    for i in range(len(array[root])):\n",
    "        temp = visited[array[root][i]]\n",
    "        if (temp == False):\n",
    "            flag = check(array[root][i],array,visited, cycle)\n",
    "            if flag:\n",
    "                return True\n",
    " \n",
    "        elif (temp == True and cycle[array[root][i]] == True):\n",
    "            return True\n",
    " \n",
    "    cycle[root] = False\n",
    "    return False\n",
    "\n",
    "def checkCycle(arr):\n",
    "    result = [[] for i in range(len(arr))]\n",
    "    \n",
    "    visited = [False] *len(arr)\n",
    "    \n",
    "    cycle = [False]*len(arr)\n",
    "    \n",
    "    \n",
    "    for i in range(len(arr)):\n",
    "        temp = (i + arr[i] + len(arr)) % len(arr)\n",
    "        if (i != temp):\n",
    "            result[i].append(temp)\n",
    "            \n",
    "    #print(result)\n",
    " \n",
    "  \n",
    "    \n",
    "    for i in range(len(arr)):\n",
    "        if (visited[i] == False):\n",
    "            flag = check(i, result, visited, cycle)\n",
    "            if flag:\n",
    "                return True\n",
    "    return False\n",
    "    \n",
    "\n",
    "\n",
    "print(checkCycle([2, -1, 1, 2, 2]))\n",
    "print(checkCycle([1,2]))"
   ]
  },
  {
   "cell_type": "markdown",
   "metadata": {},
   "source": [
    "# PROBLEM 4"
   ]
  },
  {
   "cell_type": "code",
   "execution_count": 7,
   "metadata": {},
   "outputs": [
    {
     "name": "stdout",
     "output_type": "stream",
     "text": [
      "Output =  11\n",
      "Output =  -1\n"
     ]
    }
   ],
   "source": [
    "def checkCycle(node, i):\n",
    "    \n",
    "    if node[i] != i:\n",
    "        \n",
    "        node[i] = checkCycle(node, node[i])\n",
    "        \n",
    "        \n",
    "    return node[i]\n",
    "\n",
    "def join_nodes(node, k, i, j):\n",
    "    \n",
    "    if k[i]< k[j]:\n",
    "        \n",
    "        node[i] = j\n",
    "        \n",
    "        \n",
    "    elif k[i] == k[j]:\n",
    "        \n",
    "        node[j] = i\n",
    "        \n",
    "        k[i] += 1\n",
    "\n",
    "        \n",
    "    else:\n",
    "        node[j] = i\n",
    "\n",
    "def get_min_cost(n, costs):\n",
    "    \n",
    "    result = []  \n",
    "    vertex = []\n",
    "    count = []\n",
    "    i = 0\n",
    "    j = 0\n",
    "\n",
    "    costs = sorted(costs, key=lambda k: k[2])\n",
    "    #print(graph)\n",
    "    \n",
    "    for k in range(n):\n",
    "        vertex.append(k)\n",
    "        count.append(0)    \n",
    "    #print(vertex)    \n",
    "    #print(count)\n",
    "    \n",
    "    for j in range(n-1):\n",
    "        if i>=len(costs):\n",
    "            return -1\n",
    "        a, b, cost = costs[i]\n",
    "        a-=1\n",
    "        b-=1\n",
    "        i+=1\n",
    "        temp1 = checkCycle(vertex, a)\n",
    "        temp2 = checkCycle(vertex, b)\n",
    " \n",
    "        if temp1 != temp2:\n",
    "            j+=1\n",
    "            result.append([a, b, cost])\n",
    "            join_nodes(vertex, count, temp1, temp2)\n",
    " \n",
    "        mincost = 0\n",
    "        if len(result) == n-1:\n",
    "            for a, b, cost in result:\n",
    "                mincost += cost\n",
    "            #return mincost, costs  \n",
    "            return mincost\n",
    "           \n",
    "    return -1\n",
    "\n",
    "\n",
    "n = 3\n",
    "costs = [[1,2,4],[1,3,9],[2,3,7]]\n",
    "print(\"Output = \",get_min_cost(n, costs))\n",
    "\n",
    "n = 4\n",
    "costs = [[1,2,3],[3,4,4]]\n",
    "\n",
    "print(\"Output = \",get_min_cost(n, costs))"
   ]
  },
  {
   "cell_type": "code",
   "execution_count": null,
   "metadata": {},
   "outputs": [],
   "source": []
  }
 ],
 "metadata": {
  "kernelspec": {
   "display_name": "Python 3",
   "language": "python",
   "name": "python3"
  },
  "language_info": {
   "codemirror_mode": {
    "name": "ipython",
    "version": 3
   },
   "file_extension": ".py",
   "mimetype": "text/x-python",
   "name": "python",
   "nbconvert_exporter": "python",
   "pygments_lexer": "ipython3",
   "version": "3.7.4"
  }
 },
 "nbformat": 4,
 "nbformat_minor": 2
}
