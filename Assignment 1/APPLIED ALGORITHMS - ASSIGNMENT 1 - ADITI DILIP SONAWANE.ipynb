{
 "cells": [
  {
   "cell_type": "code",
   "execution_count": 2,
   "metadata": {},
   "outputs": [
    {
     "name": "stdout",
     "output_type": "stream",
     "text": [
      "N = 8\n",
      "Output = 17\n"
     ]
    }
   ],
   "source": [
    "#Problem 1\n",
    "\n",
    "convert = {1:'One', 2:'Two', 3:'Three', 5:'Five', 7:'Seven', 9:'Nine', 11:'Eleven', 13:'Thirteen', 17:'Seventeen', 19:'Nineteen', 20:'Twenty', 30:'Thirty', 40:'Fourty', 50:'Fifty', 60:'Sixty', 70:'Seventy', 80:'Eighty', 90:'Ninety'}\n",
    "def count_prime_letters(n):\n",
    "    primeNumbers = []\n",
    "    sum = 0\n",
    "    for i in range(2,n):\n",
    "        flag = 0\n",
    "        for j in range(2, int((i/2)+1)):\n",
    "                if i%j==0:\n",
    "                    flag = flag + 1\n",
    "                if flag == 1:\n",
    "                    break\n",
    "        if(flag == 0):\n",
    "            primeNumbers.append(i)\n",
    "            \n",
    "    #print(primeNumbers)\n",
    "    for i in primeNumbers:\n",
    "        if i<=19:\n",
    "            temp = len(convert[i])\n",
    "        else:\n",
    "            j = i%10\n",
    "            k = i-j\n",
    "            temp = len(convert[j]+convert[k])\n",
    "            \n",
    "        sum = sum + temp \n",
    "    \n",
    "    return sum\n",
    "          \n",
    "    \n",
    "n = int(input(\"N = \"))\n",
    "print(\"Output =\",count_prime_letters(n))\n"
   ]
  },
  {
   "cell_type": "code",
   "execution_count": 16,
   "metadata": {},
   "outputs": [
    {
     "name": "stdout",
     "output_type": "stream",
     "text": [
      "M = 2\n",
      "N = 20\n",
      "Output= 55\n"
     ]
    }
   ],
   "source": [
    "#Problem 2\n",
    "\n",
    "def get_square_sum (M , N ) :\n",
    "    temp = N\n",
    "    sum = 0\n",
    "    while(M!=0):\n",
    "        sum = 0\n",
    "        i = 0 \n",
    "        flag = 0\n",
    "        \n",
    "        while(flag==0):\n",
    "            if(i*i>=temp):\n",
    "                flag=1\n",
    "            else:\n",
    "                sum = sum+(i*i)\n",
    "            i = i + 1\n",
    "        #print(\"Sum of all perfect squares <=\",temp,\" is: \",sum)\n",
    "        temp = sum\n",
    "        M = M-1\n",
    "    print(\"Output=\",sum)\n",
    "\n",
    "m = int(input(\"M = \"))\n",
    "n = int(input(\"N = \"))\n",
    "get_square_sum(m,n)"
   ]
  },
  {
   "cell_type": "code",
   "execution_count": 11,
   "metadata": {},
   "outputs": [
    {
     "name": "stdout",
     "output_type": "stream",
     "text": [
      "N : 3\n",
      "Binary representation of 3 is 11\n",
      "Output = 2\n"
     ]
    }
   ],
   "source": [
    "#Problem 3\n",
    "\n",
    "def check_bit (X) :  \n",
    "    count=1\n",
    "    j = 0\n",
    "    for i in range(len(X)-1, -1, -1):\n",
    "        #print(i)\n",
    "        j = j+1\n",
    "        if(X[i] == '1'):\n",
    "            if(count==2):\n",
    "                return j\n",
    "            else:\n",
    "                count = count+1\n",
    "    return -1\n",
    "\n",
    "\n",
    "n = int(input(\"N : \"))\n",
    "x = \"{0:b}\".format(n)\n",
    "print(\"Binary representation of\",n,\"is\",x)\n",
    "print(\"Output =\",check_bit(x))"
   ]
  },
  {
   "cell_type": "code",
   "execution_count": 17,
   "metadata": {},
   "outputs": [
    {
     "name": "stdout",
     "output_type": "stream",
     "text": [
      "Enter 3 digit prime number : 107\n",
      "Output = 107107\n"
     ]
    }
   ],
   "source": [
    "#Problem 4\n",
    "\n",
    "def find_multiple ( n ) :\n",
    "    return n+n\n",
    "\n",
    "n = input(\"Enter 3 digit prime number : \")\n",
    "print(\"Output =\",find_multiple ( n ))\n",
    "#n = int(input(\"Enter 3 digit prime number : \"))\n",
    "#print(\"%d%d\" % (n,n))"
   ]
  },
  {
   "cell_type": "code",
   "execution_count": 13,
   "metadata": {},
   "outputs": [
    {
     "name": "stdout",
     "output_type": "stream",
     "text": [
      "Enter size : 4\n",
      "matches_won : \n",
      "3\n",
      "1\n",
      "2\n",
      "0\n",
      "matches_drawn : \n",
      "0\n",
      "1\n",
      "0\n",
      "1\n",
      "goals_scored : \n",
      "6\n",
      "4\n",
      "5\n",
      "2\n",
      "Output :  0\n"
     ]
    }
   ],
   "source": [
    "#Problem 5\n",
    "\n",
    "def find_the_winner ( matches_won , matches_drawn , goals_scored ) :\n",
    "    sum = []\n",
    "    max = 0\n",
    "    j=0\n",
    "    for i in range(0, n):\n",
    "        temp = matches_won[i]+matches_drawn[i]\n",
    "        if temp == max:\n",
    "            if goals_scored[i]>goals_scored[j]:\n",
    "                max = temp\n",
    "                j = i\n",
    "        if temp>max:\n",
    "            max = temp\n",
    "            j = i\n",
    "        sum.append(temp)\n",
    "    return j\n",
    "\n",
    "n = int(input(\"Enter size : \"))\n",
    "matches_won = []\n",
    "matches_drawn = []\n",
    "goals_scored = []\n",
    "\n",
    "print(\"matches_won : \")\n",
    "for i in range(0, n):\n",
    "    matches_won.append(int(input()))\n",
    "\n",
    "print(\"matches_drawn : \")\n",
    "for i in range(0, n):\n",
    "    matches_drawn.append(int(input()))\n",
    "\n",
    "print(\"goals_scored : \")\n",
    "for i in range(0, n):\n",
    "    goals_scored.append(int(input()))\n",
    "\n",
    "print(\"Output : \", find_the_winner ( matches_won , matches_drawn , goals_scored ))"
   ]
  },
  {
   "cell_type": "code",
   "execution_count": 15,
   "metadata": {},
   "outputs": [
    {
     "name": "stdout",
     "output_type": "stream",
     "text": [
      "Enter string :abzzbabzz\n",
      "Output = abzzbaz\n"
     ]
    }
   ],
   "source": [
    "#Problem 6\n",
    "\n",
    "def decoded_String(S):\n",
    "    arr = {}\n",
    "    temp = 0\n",
    "    result = \"\"\n",
    "    for i in S:\n",
    "        if i in arr:\n",
    "            temp = arr.get(i)\n",
    "            temp = temp + 1;\n",
    "            if(temp<3):\n",
    "                result= result+i\n",
    "                arr[i]= temp\n",
    "            else:\n",
    "                arr[i]= 1\n",
    "        else:\n",
    "            arr[i]=1\n",
    "            result= result+i\n",
    "    return result\n",
    "\n",
    "S = input(\"Enter string :\")\n",
    "print(\"Output =\",decoded_String(S))"
   ]
  },
  {
   "cell_type": "code",
   "execution_count": null,
   "metadata": {},
   "outputs": [],
   "source": []
  }
 ],
 "metadata": {
  "kernelspec": {
   "display_name": "Python 3",
   "language": "python",
   "name": "python3"
  },
  "language_info": {
   "codemirror_mode": {
    "name": "ipython",
    "version": 3
   },
   "file_extension": ".py",
   "mimetype": "text/x-python",
   "name": "python",
   "nbconvert_exporter": "python",
   "pygments_lexer": "ipython3",
   "version": "3.7.4"
  }
 },
 "nbformat": 4,
 "nbformat_minor": 2
}
